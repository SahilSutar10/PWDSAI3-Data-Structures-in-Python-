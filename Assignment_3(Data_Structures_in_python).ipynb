{
  "nbformat": 4,
  "nbformat_minor": 0,
  "metadata": {
    "colab": {
      "provenance": []
    },
    "kernelspec": {
      "name": "python3",
      "display_name": "Python 3"
    },
    "language_info": {
      "name": "python"
    }
  },
  "cells": [
    {
      "cell_type": "code",
      "execution_count": 1,
      "metadata": {
        "colab": {
          "base_uri": "https://localhost:8080/"
        },
        "id": "3_dT5Gv_D4fu",
        "outputId": "da6bfbc0-add1-467f-a516-bb7a27dca203"
      },
      "outputs": [
        {
          "output_type": "stream",
          "name": "stdout",
          "text": [
            "Reversed String: ratuS lihaS\n"
          ]
        }
      ],
      "source": [
        "#1] Write a code to reverse a string.\n",
        "# Original string\n",
        "string = \"Sahil Sutar\"\n",
        "\n",
        "# Reversed string\n",
        "reversed_string = string[::-1]\n",
        "\n",
        "print(\"Reversed String:\", reversed_string)\n"
      ]
    },
    {
      "cell_type": "code",
      "source": [
        "#2 Write a code to count the number of vowels in a string.\n",
        "# Input string\n",
        "string = \"Sahil Sutar\"\n",
        "\n",
        "# Vowels\n",
        "vowels = \"aeiouAEIOU\"\n",
        "\n",
        "# Count vowels\n",
        "vowel_count = sum(1 for char in string if char in vowels)\n",
        "\n",
        "print(\"Number of vowels:\", vowel_count)\n"
      ],
      "metadata": {
        "colab": {
          "base_uri": "https://localhost:8080/"
        },
        "id": "JiGluJK8Epq2",
        "outputId": "2fc68b8d-0687-4455-e905-8118c07be7d4"
      },
      "execution_count": 2,
      "outputs": [
        {
          "output_type": "stream",
          "name": "stdout",
          "text": [
            "Number of vowels: 4\n"
          ]
        }
      ]
    },
    {
      "cell_type": "code",
      "source": [
        "#3] Write a code to check if a given string is a palindrome or not.\n",
        "# Input string\n",
        "string = \"madam\"\n",
        "\n",
        "# Convert to lowercase for case-insensitive comparison\n",
        "string = string.lower()\n",
        "\n",
        "# Check if the string is equal to its reverse\n",
        "if string == string[::-1]:\n",
        "    print(\"The string is a palindrome.\")\n",
        "else:\n",
        "    print(\"The string is not a palindrome.\")\n",
        "\n",
        "#Another example\n",
        "# Input string\n",
        "string = \"Sahil\"\n",
        "\n",
        "# Convert to lowercase for case-insensitive comparison\n",
        "string = string.lower()\n",
        "\n",
        "# Check if the string is equal to its reverse\n",
        "if string == string[::-1]:\n",
        "    print(\"The string is a palindrome.\")\n",
        "else:\n",
        "    print(\"The string is not a palindrome.\")"
      ],
      "metadata": {
        "colab": {
          "base_uri": "https://localhost:8080/"
        },
        "id": "LwNiMsa4E7Zz",
        "outputId": "59134d37-8efb-4efe-e691-62623d6558b8"
      },
      "execution_count": 4,
      "outputs": [
        {
          "output_type": "stream",
          "name": "stdout",
          "text": [
            "The string is a palindrome.\n",
            "The string is not a palindrome.\n"
          ]
        }
      ]
    },
    {
      "cell_type": "code",
      "source": [
        "#4] Write a code to check if two given strings are anagrams of each other.\n",
        "# Input strings\n",
        "string1 = \"listen\"\n",
        "string2 = \"silent\"\n",
        "\n",
        "# Convert both strings to lowercase and sort the characters     #This code converts both strings to lowercase for a case-insensitive check, then sorts the characters in each string and compares the sorted versions.\n",
        "if sorted(string1.lower()) == sorted(string2.lower()):\n",
        "    print(\"The strings are anagrams.\")\n",
        "else:\n",
        "    print(\"The strings are not anagrams.\")\n",
        "\n"
      ],
      "metadata": {
        "colab": {
          "base_uri": "https://localhost:8080/"
        },
        "id": "XiqleflqFrYn",
        "outputId": "4a0a1404-b334-4f99-85c7-f579eef9b9e8"
      },
      "execution_count": 7,
      "outputs": [
        {
          "output_type": "stream",
          "name": "stdout",
          "text": [
            "The strings are anagrams.\n"
          ]
        }
      ]
    },
    {
      "cell_type": "code",
      "source": [
        "#5]  Write a code to find all occurrences of a given substring within another string.\n",
        "# Input string and substring\n",
        "string = \"This is a test.This test is only a test.\"\n",
        "substring = \"test\"\n",
        "\n",
        "# Find all starting indices of the substring\n",
        "indices = []\n",
        "index = string.find(substring)\n",
        "while index != -1:\n",
        "    indices.append(index)\n",
        "    index = string.find(substring, index + 1)\n",
        "\n",
        "print(\"Occurrences of substring at indices:\", indices)\n"
      ],
      "metadata": {
        "colab": {
          "base_uri": "https://localhost:8080/"
        },
        "id": "_uDFZA04Gp9v",
        "outputId": "39019e64-581b-4f33-f8d9-81f94c577873"
      },
      "execution_count": 9,
      "outputs": [
        {
          "output_type": "stream",
          "name": "stdout",
          "text": [
            "Occurrences of substring at indices: [10, 20, 35]\n"
          ]
        }
      ]
    },
    {
      "cell_type": "code",
      "source": [
        "#6] Write a code to perform basic string compression using the counts of repeated characters.\n",
        "def compress_string(s):\n",
        "    compressed = []\n",
        "    count = 1\n",
        "\n",
        "    for i in range(1, len(s)):\n",
        "        if s[i] == s[i - 1]:\n",
        "            count += 1\n",
        "        else:\n",
        "            compressed.append(s[i - 1] + str(count))\n",
        "            count = 1\n",
        "\n",
        "    # Add the last character and count\n",
        "    compressed.append(s[-1] + str(count))\n",
        "\n",
        "    # Join compressed parts and check if compressed is shorter than original\n",
        "    result = ''.join(compressed)\n",
        "    return result if len(result) < len(s) else s\n",
        "\n",
        "# Example usage\n",
        "string = \"aabcccccddddddd\"\n",
        "compressed_string = compress_string(string)\n",
        "print(\"Compressed String:\", compressed_string)\n"
      ],
      "metadata": {
        "colab": {
          "base_uri": "https://localhost:8080/"
        },
        "id": "adVJSSWlHkQE",
        "outputId": "86828761-9bc4-4d6d-d1c9-ecb13adde27d"
      },
      "execution_count": 12,
      "outputs": [
        {
          "output_type": "stream",
          "name": "stdout",
          "text": [
            "Compressed String: a2b1c5d7\n"
          ]
        }
      ]
    },
    {
      "cell_type": "code",
      "source": [
        "#7]Write a code to determine if a string has all unique characters.\n",
        "def has_unique_characters(s):\n",
        "    # Using a set to track characters\n",
        "    unique_chars = set()\n",
        "\n",
        "    for char in s:\n",
        "        if char in unique_chars:\n",
        "            return False  # Duplicate character found\n",
        "        unique_chars.add(char)\n",
        "\n",
        "    return True  # All characters are unique\n",
        "\n",
        "# Example usage\n",
        "string = \"Sahil\"\n",
        "result = has_unique_characters(string)\n",
        "print(\"The string has all unique characters:\", result)\n",
        "\n",
        "string = \"Assignment\"\n",
        "result = has_unique_characters(string)\n",
        "print(\"The string has all unique characters:\", result)\n"
      ],
      "metadata": {
        "colab": {
          "base_uri": "https://localhost:8080/"
        },
        "id": "auTbXMXQIB3N",
        "outputId": "cbbdfe40-c073-47d9-942b-58d77d4f10b4"
      },
      "execution_count": 17,
      "outputs": [
        {
          "output_type": "stream",
          "name": "stdout",
          "text": [
            "The string has all unique characters: True\n",
            "The string has all unique characters: False\n"
          ]
        }
      ]
    },
    {
      "cell_type": "code",
      "source": [
        "#8]Write a code to convert a given string to uppercase or lowercase.\n",
        "# Input string\n",
        "string = \"Sahil Sutar\"\n",
        "\n",
        "# Convert to uppercase\n",
        "uppercase_string = string.upper()\n",
        "print(\"Uppercase:\", uppercase_string)\n",
        "\n",
        "# Convert to lowercase\n",
        "lowercase_string = string.lower()\n",
        "print(\"Lowercase:\", lowercase_string)\n"
      ],
      "metadata": {
        "colab": {
          "base_uri": "https://localhost:8080/"
        },
        "id": "5pyzYa-YIjC3",
        "outputId": "f8ae250d-30c7-4187-f614-8b8905854796"
      },
      "execution_count": 18,
      "outputs": [
        {
          "output_type": "stream",
          "name": "stdout",
          "text": [
            "Uppercase: SAHIL SUTAR\n",
            "Lowercase: sahil sutar\n"
          ]
        }
      ]
    },
    {
      "cell_type": "code",
      "source": [
        "#9]  Write a code to count the number of words in a string.\n",
        "# Input string\n",
        "string = \"I am sahil sutar doing data science course.\"\n",
        "\n",
        "# Split the string by whitespace and count the resulting words\n",
        "word_count = len(string.split())\n",
        "\n",
        "print(\"Number of words:\", word_count)\n"
      ],
      "metadata": {
        "colab": {
          "base_uri": "https://localhost:8080/"
        },
        "id": "oANLgQrMIxt4",
        "outputId": "0b963054-8a95-453d-e3ca-b7a75acaed43"
      },
      "execution_count": 20,
      "outputs": [
        {
          "output_type": "stream",
          "name": "stdout",
          "text": [
            "Number of words: 8\n"
          ]
        }
      ]
    },
    {
      "cell_type": "code",
      "source": [
        "#10]  Write a code to concatenate two strings without using the + operator.\n",
        "# Input strings\n",
        "string1 = \"Sahil\"\n",
        "string2 = \"Sutar\"\n",
        "\n",
        "# Concatenate using join()\n",
        "concatenated_string = \" \".join([string1, string2])\n",
        "\n",
        "print(\"Concatenated String:\", concatenated_string)\n"
      ],
      "metadata": {
        "colab": {
          "base_uri": "https://localhost:8080/"
        },
        "id": "CD2fPDXMJhCm",
        "outputId": "fe4db7e9-9a0e-48b7-eb44-3b3ab36d4249"
      },
      "execution_count": 22,
      "outputs": [
        {
          "output_type": "stream",
          "name": "stdout",
          "text": [
            "Concatenated String: Sahil Sutar\n"
          ]
        }
      ]
    },
    {
      "cell_type": "code",
      "source": [
        "#11]  Write a code to remove all occurrences of a specific element from a list.\n",
        "# Input list and element to remove\n",
        "my_list = [1, 2, 3, 4, 2, 5, 2]\n",
        "element_to_remove = 2\n",
        "\n",
        "# Remove all occurrences of the specified element\n",
        "my_list = [item for item in my_list if item != element_to_remove]\n",
        "\n",
        "print(\"Updated List:\", my_list)\n"
      ],
      "metadata": {
        "colab": {
          "base_uri": "https://localhost:8080/"
        },
        "id": "k2ic6OyWJ1-m",
        "outputId": "fde3cb7c-1d95-4be0-ec10-dec1cc8f6bf8"
      },
      "execution_count": 23,
      "outputs": [
        {
          "output_type": "stream",
          "name": "stdout",
          "text": [
            "Updated List: [1, 3, 4, 5]\n"
          ]
        }
      ]
    },
    {
      "cell_type": "code",
      "source": [
        "#12] Implement a code to find the second largest number in a given list of integers.\n",
        "def second_largest(numbers):\n",
        "    # Remove duplicates by converting the list to a set\n",
        "    unique_numbers = set(numbers)\n",
        "\n",
        "    # If there are less than 2 unique numbers, return None\n",
        "    if len(unique_numbers) < 2:\n",
        "        return None\n",
        "\n",
        "    # Remove the largest number and find the largest of the remaining numbers\n",
        "    unique_numbers.remove(max(unique_numbers))\n",
        "\n",
        "    return max(unique_numbers)\n",
        "\n",
        "# Example usage\n",
        "numbers = [10, 20, 4, 45, 99, 99, 4]\n",
        "second_largest_number = second_largest(numbers)\n",
        "print(\"Second largest number:\", second_largest_number)\n"
      ],
      "metadata": {
        "colab": {
          "base_uri": "https://localhost:8080/"
        },
        "id": "PT409x2HMikr",
        "outputId": "819507e8-952b-498a-9dda-f47878673362"
      },
      "execution_count": 24,
      "outputs": [
        {
          "output_type": "stream",
          "name": "stdout",
          "text": [
            "Second largest number: 45\n"
          ]
        }
      ]
    },
    {
      "cell_type": "code",
      "source": [
        "#13] Create a code to count the occurrences of each element in a list and return a dictionary with elements as keys and their counts as values.\n",
        "def count_occurrences(lst):\n",
        "    # Initialize an empty dictionary\n",
        "    occurrence_dict = {}\n",
        "\n",
        "    # Iterate over the list and count occurrences\n",
        "    for item in lst:\n",
        "        if item in occurrence_dict:\n",
        "            occurrence_dict[item] += 1\n",
        "        else:\n",
        "            occurrence_dict[item] = 1\n",
        "\n",
        "    return occurrence_dict\n",
        "\n",
        "# Example usage\n",
        "my_list = [1, 2, 2, 3, 4, 1, 1, 2, 5,\"Sahil\"]\n",
        "result = count_occurrences(my_list)\n",
        "print(\"Occurrences:\", result)\n"
      ],
      "metadata": {
        "colab": {
          "base_uri": "https://localhost:8080/"
        },
        "id": "my931PRSM4yw",
        "outputId": "3e815fb6-202b-48ab-ecad-4dac328454a8"
      },
      "execution_count": 26,
      "outputs": [
        {
          "output_type": "stream",
          "name": "stdout",
          "text": [
            "Occurrences: {1: 3, 2: 3, 3: 1, 4: 1, 5: 1, 'Sahil': 1}\n"
          ]
        }
      ]
    },
    {
      "cell_type": "code",
      "source": [
        "#14] Write a code to reverse a list in-place without using any built-in reverse functions.\n",
        "def reverse_list(lst):\n",
        "    start = 0\n",
        "    end = len(lst) - 1\n",
        "\n",
        "    while start < end:\n",
        "        # Swap elements at start and end\n",
        "        lst[start], lst[end] = lst[end], lst[start]\n",
        "\n",
        "        # Move start forward and end backward\n",
        "        start += 1\n",
        "        end -= 1\n",
        "\n",
        "    return lst\n",
        "\n",
        "# Example usage\n",
        "my_list = [1, 2, 3, 4, 5]\n",
        "reversed_list = reverse_list(my_list)\n",
        "print(\"Reversed List:\", reversed_list)\n"
      ],
      "metadata": {
        "colab": {
          "base_uri": "https://localhost:8080/"
        },
        "id": "nOJ39GVtOXj_",
        "outputId": "43d6f825-cbb4-4f11-f70d-82659d424eb3"
      },
      "execution_count": 27,
      "outputs": [
        {
          "output_type": "stream",
          "name": "stdout",
          "text": [
            "Reversed List: [5, 4, 3, 2, 1]\n"
          ]
        }
      ]
    },
    {
      "cell_type": "code",
      "source": [
        "#15]  Implement a code to find and remove duplicates from a list while preserving the original order of elements.\n",
        "def remove_duplicates(lst):\n",
        "    seen = set()  # To keep track of elements we've already encountered\n",
        "    result = []   # To store the result without duplicates\n",
        "\n",
        "    for item in lst:\n",
        "        if item not in seen:\n",
        "            result.append(item)  # Add the item to the result\n",
        "            seen.add(item)       # Mark it as seen\n",
        "\n",
        "    return result\n",
        "\n",
        "# Example usage\n",
        "my_list = [1, 2, 2, 3, 4, 1, 5, 3]\n",
        "unique_list = remove_duplicates(my_list)\n",
        "print(\"List without duplicates:\", unique_list)\n"
      ],
      "metadata": {
        "colab": {
          "base_uri": "https://localhost:8080/"
        },
        "id": "LptwdSSOO2xh",
        "outputId": "2cccb678-68fa-4e1c-e791-3ef3940717d7"
      },
      "execution_count": 28,
      "outputs": [
        {
          "output_type": "stream",
          "name": "stdout",
          "text": [
            "List without duplicates: [1, 2, 3, 4, 5]\n"
          ]
        }
      ]
    },
    {
      "cell_type": "code",
      "source": [
        "#16] Create a code to check if a given list is sorted (either in ascending or descending order) or not.\n",
        "def is_sorted(lst):\n",
        "    # Check if the list is sorted in ascending order\n",
        "    if lst == sorted(lst):\n",
        "        return \"The list is sorted in ascending order.\"\n",
        "\n",
        "    # Check if the list is sorted in descending order\n",
        "    elif lst == sorted(lst, reverse=True):\n",
        "        return \"The list is sorted in descending order.\"\n",
        "\n",
        "    # If neither, the list is not sorted\n",
        "    else:\n",
        "        return \"The list is not sorted.\"\n",
        "\n",
        "# Example usage\n",
        "my_list = [1, 2, 3, 4, 5]\n",
        "result = is_sorted(my_list)\n",
        "print(result)\n",
        "\n",
        "my_list2 = [5, 4, 3, 2, 1]\n",
        "result2 = is_sorted(my_list2)\n",
        "print(result2)\n",
        "\n",
        "my_list3 = [1, 3, 2, 5, 4]\n",
        "result3 = is_sorted(my_list3)\n",
        "print(result3)\n"
      ],
      "metadata": {
        "colab": {
          "base_uri": "https://localhost:8080/"
        },
        "id": "psGoGKjiPXTm",
        "outputId": "eae42cbe-e7a9-4de8-fe7f-2035928db7e7"
      },
      "execution_count": 29,
      "outputs": [
        {
          "output_type": "stream",
          "name": "stdout",
          "text": [
            "The list is sorted in ascending order.\n",
            "The list is sorted in descending order.\n",
            "The list is not sorted.\n"
          ]
        }
      ]
    },
    {
      "cell_type": "code",
      "source": [
        "#17] Write a code to merge two sorted lists into a single sorted list.\n",
        "def merge_sorted_lists(list1, list2):\n",
        "    # Create an empty list to store the merged result\n",
        "    merged_list = []\n",
        "\n",
        "    # Initialize pointers for both lists\n",
        "    i, j = 0, 0\n",
        "\n",
        "    # Merge the lists while both have elements\n",
        "    while i < len(list1) and j < len(list2):\n",
        "        if list1[i] < list2[j]:\n",
        "            merged_list.append(list1[i])\n",
        "            i += 1\n",
        "        else:\n",
        "            merged_list.append(list2[j])\n",
        "            j += 1\n",
        "\n",
        "    # If there are any remaining elements in list1, add them\n",
        "    while i < len(list1):\n",
        "        merged_list.append(list1[i])\n",
        "        i += 1\n",
        "\n",
        "    # If there are any remaining elements in list2, add them\n",
        "    while j < len(list2):\n",
        "        merged_list.append(list2[j])\n",
        "        j += 1\n",
        "\n",
        "    return merged_list\n",
        "\n",
        "# Example usage\n",
        "list1 = [1, 2, 5, 7]\n",
        "list2 = [3, 4, 6, 8]\n",
        "result = merge_sorted_lists(list1, list2)\n",
        "print(\"Merged Sorted List:\", result)\n"
      ],
      "metadata": {
        "colab": {
          "base_uri": "https://localhost:8080/"
        },
        "id": "bXWtTIgnQMhB",
        "outputId": "a6ce75d4-4454-45ad-b99a-e022f58c8359"
      },
      "execution_count": 31,
      "outputs": [
        {
          "output_type": "stream",
          "name": "stdout",
          "text": [
            "Merged Sorted List: [1, 2, 3, 4, 5, 6, 7, 8]\n"
          ]
        }
      ]
    },
    {
      "cell_type": "code",
      "source": [
        "#18] Implement a code to find the intersection of two given lists.\n",
        "list1 = [1, 2, 3, 4, 5]\n",
        "list2 = [4, 5, 6, 7, 8]\n",
        "intersection = list(set(list1) & set(list2))\n",
        "print(\"Intersection:\", intersection)\n"
      ],
      "metadata": {
        "colab": {
          "base_uri": "https://localhost:8080/"
        },
        "id": "RATiHw9TRQzv",
        "outputId": "b2ade694-402e-4992-93d2-bcba8dd0b00f"
      },
      "execution_count": 35,
      "outputs": [
        {
          "output_type": "stream",
          "name": "stdout",
          "text": [
            "Intersection: [4, 5]\n"
          ]
        }
      ]
    },
    {
      "cell_type": "code",
      "source": [
        "#19]  Create a code to find the union of two lists without duplicates.\n",
        "def union(list1, list2):\n",
        "    return list(set(list1) | set(list2))\n",
        "\n",
        "# Example usage\n",
        "list1 = [1, 2, 3, 4, 5]\n",
        "list2 = [4, 5, 6, 7, 8]\n",
        "result = union(list1, list2)\n",
        "print(result)  # Output: [1, 2, 3, 4, 5, 6, 7, 8]\n"
      ],
      "metadata": {
        "colab": {
          "base_uri": "https://localhost:8080/"
        },
        "id": "2_qwxXFGScE3",
        "outputId": "281b8bc3-e531-4633-acc1-4743b4a2adb7"
      },
      "execution_count": 38,
      "outputs": [
        {
          "output_type": "stream",
          "name": "stdout",
          "text": [
            "[1, 2, 3, 4, 5, 6, 7, 8]\n"
          ]
        }
      ]
    },
    {
      "cell_type": "code",
      "source": [
        "#20] Write a code to shuffle a given list randomly without using any built-in shuffle functions.\n",
        "import random\n",
        "\n",
        "def shuffle_list(lst):\n",
        "    # Iterate over the list from the last element to the second element\n",
        "    for i in range(len(lst) - 1, 0, -1):\n",
        "        # Generate a random index from 0 to i\n",
        "        j = random.randint(0, i)\n",
        "\n",
        "        # Swap elements at i and j\n",
        "        lst[i], lst[j] = lst[j], lst[i]\n",
        "\n",
        "# Example usage\n",
        "my_list = [1, 2, 3, 4, 5, 10, 12]\n",
        "shuffle_list(my_list)\n",
        "print(my_list)  # Output will be a shuffled version of [1, 2, 3, 4, 5]\n"
      ],
      "metadata": {
        "colab": {
          "base_uri": "https://localhost:8080/"
        },
        "id": "MCLz30zETHZQ",
        "outputId": "2b2077d6-eca3-4e81-a883-7977ada41062"
      },
      "execution_count": 40,
      "outputs": [
        {
          "output_type": "stream",
          "name": "stdout",
          "text": [
            "[5, 2, 12, 1, 4, 3, 10]\n"
          ]
        }
      ]
    },
    {
      "cell_type": "code",
      "source": [
        "#21] Write a code that takes two tuples as input and returns a new tuple containing elements that are common to both input tuples.\n",
        "def common_elements(tuple1, tuple2):\n",
        "    # Convert both tuples to sets and find the intersection\n",
        "    common_set = set(tuple1) & set(tuple2)\n",
        "\n",
        "    # Convert the set back to a tuple and return it\n",
        "    return tuple(common_set)\n",
        "\n",
        "# Example usage\n",
        "tuple1 = (1, 2, 3, 4, 5)\n",
        "tuple2 = (4, 5, 6, 7, 8)\n",
        "result = common_elements(tuple1, tuple2)\n",
        "print(result)  # Output: (4, 5)\n",
        "\n",
        "# Example usage\n",
        "tuple1 = (10, 12, 15)\n",
        "tuple2 = (15, 12, 25)\n",
        "result = common_elements(tuple1, tuple2)\n",
        "print(result)  # Output: (4, 5)\n"
      ],
      "metadata": {
        "colab": {
          "base_uri": "https://localhost:8080/"
        },
        "id": "bdzsZeD3TlFN",
        "outputId": "65e124bc-fb46-4a45-8a4c-455753a5ebfc"
      },
      "execution_count": 42,
      "outputs": [
        {
          "output_type": "stream",
          "name": "stdout",
          "text": [
            "(4, 5)\n",
            "(12, 15)\n"
          ]
        }
      ]
    },
    {
      "cell_type": "code",
      "source": [
        "#22] Create a code that prompts the user to enter two sets of integers separated by commas. Then, print the intersection of these two sets.\n",
        "def get_set_input(prompt):\n",
        "    # Take input from the user, split by commas, and convert each element to an integer\n",
        "    user_input = input(prompt)\n",
        "    user_set = set(map(int, user_input.split(',')))\n",
        "    return user_set\n",
        "\n",
        "def main():\n",
        "    # Prompt the user for two sets of integers\n",
        "    set1 = get_set_input(\"Enter the first set of integers (separated by commas): \")\n",
        "    set2 = get_set_input(\"Enter the second set of integers (separated by commas): \")\n",
        "\n",
        "    # Find the intersection of the two sets\n",
        "    intersection = set1 & set2\n",
        "\n",
        "    # Print the intersection\n",
        "    print(\"The intersection of the two sets is:\", intersection)\n",
        "\n",
        "# Run the program\n",
        "main()\n"
      ],
      "metadata": {
        "colab": {
          "base_uri": "https://localhost:8080/"
        },
        "id": "qDL3dSKYT4fo",
        "outputId": "6a6bea9f-ffad-4c39-dd5d-1dc498ee9e4e"
      },
      "execution_count": 43,
      "outputs": [
        {
          "output_type": "stream",
          "name": "stdout",
          "text": [
            "Enter the first set of integers (separated by commas): 10, 12, 44, 58\n",
            "Enter the second set of integers (separated by commas): 44, 65, 78, 58\n",
            "The intersection of the two sets is: {58, 44}\n"
          ]
        }
      ]
    },
    {
      "cell_type": "code",
      "source": [
        "#23] Write a code to concatenate two tuples. The function should take two tuples as input and return a new tuple containing elements from both input tuples.\n",
        "def concatenate_tuples(tuple1, tuple2):\n",
        "    # Concatenate the two tuples using the + operator\n",
        "    return tuple1 + tuple2\n",
        "\n",
        "# Example usage\n",
        "tuple1 = (1, 2, 3)\n",
        "tuple2 = (4, 5, 6)\n",
        "result = concatenate_tuples(tuple1, tuple2)\n",
        "print(result)  # Output: (1, 2, 3, 4, 5, 6)\n"
      ],
      "metadata": {
        "colab": {
          "base_uri": "https://localhost:8080/"
        },
        "id": "-7SD8FE5UpUb",
        "outputId": "807c3891-2b36-49c6-b5ff-18f4e69b879c"
      },
      "execution_count": 44,
      "outputs": [
        {
          "output_type": "stream",
          "name": "stdout",
          "text": [
            "(1, 2, 3, 4, 5, 6)\n"
          ]
        }
      ]
    },
    {
      "cell_type": "code",
      "source": [
        "#24] Develop a code that prompts the user to input two sets of strings. Then, print the elements that are present in the first set but not in the second set.\n",
        "def get_set_input(prompt):\n",
        "    # Take input from the user, split by commas, and convert each element to a string\n",
        "    user_input = input(prompt)\n",
        "    user_set = set(user_input.split(','))\n",
        "    return user_set\n",
        "\n",
        "def main():\n",
        "    # Prompt the user for two sets of strings\n",
        "    set1 = get_set_input(\"Enter the first set of strings (separated by commas): \")\n",
        "    set2 = get_set_input(\"Enter the second set of strings (separated by commas): \")\n",
        "\n",
        "    # Find elements in the first set but not in the second set\n",
        "    difference = set1 - set2\n",
        "\n",
        "    # Print the result\n",
        "    print(\"Elements present in the first set but not in the second set:\", difference)\n",
        "\n",
        "# Run the program\n",
        "main()\n",
        "\n"
      ],
      "metadata": {
        "colab": {
          "base_uri": "https://localhost:8080/"
        },
        "id": "kf89xJMBVELW",
        "outputId": "c3a83364-d33e-40de-81aa-0ef206a84618"
      },
      "execution_count": 47,
      "outputs": [
        {
          "output_type": "stream",
          "name": "stdout",
          "text": [
            "Enter the first set of strings (separated by commas): sahil,sutar,ds\n",
            "Enter the second set of strings (separated by commas): ds,pwskills\n",
            "Elements present in the first set but not in the second set: {'sahil', 'sutar'}\n"
          ]
        }
      ]
    },
    {
      "cell_type": "code",
      "source": [
        "#25]  Create a code that takes a tuple and two integers as input. The function should return a new tuple containing elements from the original tuple within the specified range of indices.\n",
        "def slice_tuple(original_tuple, start_index, end_index):\n",
        "    # Return the elements from start_index to end_index (excluding end_index)\n",
        "    return original_tuple[start_index:end_index]\n",
        "\n",
        "# Example usage\n",
        "original_tuple = (10, 20, 30, 40, 50, 60)\n",
        "start_index = 2\n",
        "end_index = 5\n",
        "result = slice_tuple(original_tuple, start_index, end_index)\n",
        "print(result)  # Output: (30, 40, 50)\n"
      ],
      "metadata": {
        "colab": {
          "base_uri": "https://localhost:8080/"
        },
        "id": "sPJ1gwVZWMHS",
        "outputId": "05159148-5356-4d2f-c17e-fba105d1a59c"
      },
      "execution_count": 48,
      "outputs": [
        {
          "output_type": "stream",
          "name": "stdout",
          "text": [
            "(30, 40, 50)\n"
          ]
        }
      ]
    },
    {
      "cell_type": "code",
      "source": [
        "#26]  Write a code that prompts the user to input two sets of characters. Then, print the union of these two sets.\n",
        "def get_set_input(prompt):\n",
        "    # Take input from the user, split by commas, and convert each element to a string\n",
        "    user_input = input(prompt)\n",
        "    user_set = set(user_input.split(','))\n",
        "    return user_set\n",
        "\n",
        "def main():\n",
        "    # Prompt the user for two sets of characters\n",
        "    set1 = get_set_input(\"Enter the first set of characters (separated by commas): \")\n",
        "    set2 = get_set_input(\"Enter the second set of characters (separated by commas): \")\n",
        "\n",
        "    # Find the union of the two sets\n",
        "    union = set1 | set2\n",
        "\n",
        "    # Print the result\n",
        "    print(\"The union of the two sets is:\", union)\n",
        "\n",
        "# Run the program\n",
        "main()\n"
      ],
      "metadata": {
        "colab": {
          "base_uri": "https://localhost:8080/"
        },
        "id": "JOaa6XenXRZJ",
        "outputId": "e5f8c441-4c07-4206-fdc9-7d6efb9adc10"
      },
      "execution_count": 50,
      "outputs": [
        {
          "output_type": "stream",
          "name": "stdout",
          "text": [
            "Enter the first set of characters (separated by commas): sahil,sutar,ds\n",
            "Enter the second set of characters (separated by commas): pwskills,chiplun,ds\n",
            "The union of the two sets is: {'sahil', 'chiplun', 'sutar', 'pwskills', 'ds'}\n"
          ]
        }
      ]
    },
    {
      "cell_type": "code",
      "source": [
        "#27] Develop a code that takes a tuple of integers as input. The function should return the maximum and minimum values from the tuple using tuple unpacking.\n",
        "def find_max_min(input_tuple):\n",
        "    # Find the maximum and minimum values using the max() and min() functions\n",
        "    max_val = max(input_tuple)\n",
        "    min_val = min(input_tuple)\n",
        "\n",
        "    # Return the results as a tuple\n",
        "    return max_val, min_val\n",
        "\n",
        "# Example usage\n",
        "input_tuple = (3, 7, 1, 9, 5, 2)\n",
        "max_val, min_val = find_max_min(input_tuple)\n",
        "print(\"Maximum value:\", max_val)\n",
        "print(\"Minimum value:\", min_val)\n"
      ],
      "metadata": {
        "colab": {
          "base_uri": "https://localhost:8080/"
        },
        "id": "tf_5Izc_YgYq",
        "outputId": "377e294d-d6a3-49ea-f47a-510d12fb9943"
      },
      "execution_count": 51,
      "outputs": [
        {
          "output_type": "stream",
          "name": "stdout",
          "text": [
            "Maximum value: 9\n",
            "Minimum value: 1\n"
          ]
        }
      ]
    },
    {
      "cell_type": "code",
      "source": [
        "#28]  Create a code that defines two sets of integers. Then, print the union, intersection, and difference of these two sets.\n",
        "def main():\n",
        "    # Define two sets of integers\n",
        "    set1 = {1, 2, 3, 4, 5}\n",
        "    set2 = {4, 5, 6, 7, 8}\n",
        "\n",
        "    # Calculate the union of the two sets\n",
        "    union = set1 | set2\n",
        "    # Calculate the intersection of the two sets\n",
        "    intersection = set1 & set2\n",
        "    # Calculate the difference between the first set and the second set\n",
        "    difference = set1 - set2\n",
        "\n",
        "    # Print the results\n",
        "    print(\"Union of the two sets:\", union)\n",
        "    print(\"Intersection of the two sets:\", intersection)\n",
        "    print(\"Difference of the first set and the second set:\", difference)\n",
        "\n",
        "# Run the program\n",
        "main()\n"
      ],
      "metadata": {
        "colab": {
          "base_uri": "https://localhost:8080/"
        },
        "id": "5c9esSXSYt7E",
        "outputId": "e94eeedc-c2a8-4558-b3d3-0d84e1d378f1"
      },
      "execution_count": 52,
      "outputs": [
        {
          "output_type": "stream",
          "name": "stdout",
          "text": [
            "Union of the two sets: {1, 2, 3, 4, 5, 6, 7, 8}\n",
            "Intersection of the two sets: {4, 5}\n",
            "Difference of the first set and the second set: {1, 2, 3}\n"
          ]
        }
      ]
    },
    {
      "cell_type": "code",
      "source": [
        "#29] Write a code that takes a tuple and an element as input. The function should return the count of occurrences of the given element in the tuple.\n",
        "def count_occurrences(input_tuple, element):\n",
        "    # Use the count method to get the number of occurrences of the element\n",
        "    return input_tuple.count(element)\n",
        "\n",
        "# Example usage\n",
        "input_tuple = (1, 2, 3, 4, 5, 2, 2, 6,2)\n",
        "element = 2\n",
        "count = count_occurrences(input_tuple, element)\n",
        "print(f\"The element {element} appears {count} times in the tuple.\")\n"
      ],
      "metadata": {
        "colab": {
          "base_uri": "https://localhost:8080/"
        },
        "id": "2_7dYu6jZEzV",
        "outputId": "8f1ccc9a-3b24-41af-ba4a-3d46a499d132"
      },
      "execution_count": 54,
      "outputs": [
        {
          "output_type": "stream",
          "name": "stdout",
          "text": [
            "The element 2 appears 4 times in the tuple.\n"
          ]
        }
      ]
    },
    {
      "cell_type": "code",
      "source": [
        "#30] Develop a code that prompts the user to input two sets of strings. Then, print the symmetric difference of these two sets.\n",
        "def get_set_input(prompt):\n",
        "    # Take input from the user, split by commas, and convert each element to a string\n",
        "    user_input = input(prompt)\n",
        "    user_set = set(user_input.split(','))\n",
        "    return user_set\n",
        "\n",
        "def main():\n",
        "    # Prompt the user for two sets of strings\n",
        "    set1 = get_set_input(\"Enter the first set of strings (separated by commas): \")\n",
        "    set2 = get_set_input(\"Enter the second set of strings (separated by commas): \")\n",
        "\n",
        "    # Calculate the symmetric difference of the two sets\n",
        "    symmetric_difference = set1 ^ set2\n",
        "\n",
        "    # Print the result\n",
        "    print(\"The symmetric difference of the two sets is:\", symmetric_difference)\n",
        "\n",
        "# Run the program\n",
        "main()\n"
      ],
      "metadata": {
        "colab": {
          "base_uri": "https://localhost:8080/"
        },
        "id": "RfdQNF8LZnRq",
        "outputId": "b96a5983-6af7-4763-ae0e-21bbb68a5ab0"
      },
      "execution_count": 56,
      "outputs": [
        {
          "output_type": "stream",
          "name": "stdout",
          "text": [
            "Enter the first set of strings (separated by commas): grape,banana,orange\n",
            "Enter the second set of strings (separated by commas): banana,apple,orange\n",
            "The symmetric difference of the two sets is: {'apple', 'grape'}\n"
          ]
        }
      ]
    },
    {
      "cell_type": "code",
      "source": [
        "#31]  Write a code that takes a list of words as input and returns a dictionary where the keys are unique words and the values are the frequencies of those words in the input list.\n",
        "def word_frequency(word_list):\n",
        "    # Create an empty dictionary to store word frequencies\n",
        "    frequency_dict = {}\n",
        "\n",
        "    # Iterate over the words in the list\n",
        "    for word in word_list:\n",
        "        # If the word is already in the dictionary, increment its count\n",
        "        if word in frequency_dict:\n",
        "            frequency_dict[word] += 1\n",
        "        # If the word is not in the dictionary, add it with a count of 1\n",
        "        else:\n",
        "            frequency_dict[word] = 1\n",
        "\n",
        "    return frequency_dict\n",
        "\n",
        "# Example usage\n",
        "word_list = input(\"Enter a list of words (separated by spaces): \").split()\n",
        "result = word_frequency(word_list)\n",
        "print(\"Word frequencies:\", result)\n"
      ],
      "metadata": {
        "colab": {
          "base_uri": "https://localhost:8080/"
        },
        "id": "YUptKHAnagE7",
        "outputId": "7729e178-765b-4fa3-9ce8-649af8b6dd3f"
      },
      "execution_count": 58,
      "outputs": [
        {
          "output_type": "stream",
          "name": "stdout",
          "text": [
            "Enter a list of words (separated by spaces): apple banana apple orange banana apple\n",
            "Word frequencies: {'apple': 3, 'banana': 2, 'orange': 1}\n"
          ]
        }
      ]
    },
    {
      "cell_type": "code",
      "source": [
        "#32] Write a code that takes two dictionaries as input and merges them into a single dictionary. If there are common keys, the values should be added together.\n",
        "def merge_dicts(dict1, dict2):\n",
        "    # Create a new dictionary to store the merged result\n",
        "    merged_dict = dict1.copy()  # Start with a copy of dict1\n",
        "\n",
        "    # Iterate through the second dictionary\n",
        "    for key, value in dict2.items():\n",
        "        # If the key is already in the merged dictionary, add the values\n",
        "        if key in merged_dict:\n",
        "            merged_dict[key] += value\n",
        "        else:\n",
        "            # If the key is not in the merged dictionary, add the key-value pair\n",
        "            merged_dict[key] = value\n",
        "\n",
        "    return merged_dict\n",
        "\n",
        "# Example usage\n",
        "dict1 = {'a': 1, 'b': 2, 'c': 3}\n",
        "dict2 = {'b': 3, 'c': 4, 'd': 5}\n",
        "\n",
        "result = merge_dicts(dict1, dict2)\n",
        "print(\"Merged Dictionary:\", result)\n"
      ],
      "metadata": {
        "colab": {
          "base_uri": "https://localhost:8080/"
        },
        "id": "gfV4SSq-bX3h",
        "outputId": "30aa4bd8-6d97-43dd-c069-07052ef4641a"
      },
      "execution_count": 59,
      "outputs": [
        {
          "output_type": "stream",
          "name": "stdout",
          "text": [
            "Merged Dictionary: {'a': 1, 'b': 5, 'c': 7, 'd': 5}\n"
          ]
        }
      ]
    },
    {
      "cell_type": "code",
      "source": [
        "#33] Write a code to access a value in a nested dictionary. The function should take the dictionary and a list of keys as input, and return the corresponding value. If any of the keys do not exist in the dictionary, the function should return None.\n",
        "def access_nested_dict(nested_dict, keys):\n",
        "    # Iterate over the list of keys\n",
        "    for key in keys:\n",
        "        # If the key doesn't exist in the dictionary, return None\n",
        "        if key not in nested_dict:\n",
        "            return None\n",
        "        # Otherwise, move to the next level of the dictionary\n",
        "        nested_dict = nested_dict[key]\n",
        "    # Return the value when all keys are found\n",
        "    return nested_dict\n",
        "\n",
        "# Example usage\n",
        "nested_dict = {\n",
        "    'a': {\n",
        "        'b': {\n",
        "            'c': 10\n",
        "        },\n",
        "        'd': 20\n",
        "    }\n",
        "}\n",
        "\n",
        "keys = ['a', 'b', 'c']\n",
        "result = access_nested_dict(nested_dict, keys)\n",
        "print(\"Value:\", result)  # Output: 10\n",
        "\n",
        "# Example with a non-existent key\n",
        "keys_non_existent = ['a', 'x', 'c']\n",
        "result_non_existent = access_nested_dict(nested_dict, keys_non_existent)\n",
        "print(\"Value for non-existent keys:\", result_non_existent)  # Output: None\n"
      ],
      "metadata": {
        "colab": {
          "base_uri": "https://localhost:8080/"
        },
        "id": "V1pibtNYbpvN",
        "outputId": "46b839a1-02f2-4049-fa69-3369b3b53cd5"
      },
      "execution_count": 60,
      "outputs": [
        {
          "output_type": "stream",
          "name": "stdout",
          "text": [
            "Value: 10\n",
            "Value for non-existent keys: None\n"
          ]
        }
      ]
    },
    {
      "cell_type": "code",
      "source": [
        "#34]  Write a code that takes a dictionary as input and returns a sorted version of it based on the values. You can choose whether to sort in ascending or descending order.\n",
        "def sort_dict_by_value(input_dict, descending=False):\n",
        "    # Sort the dictionary by its values\n",
        "    sorted_dict = dict(sorted(input_dict.items(), key=lambda item: item[1], reverse=descending))\n",
        "    return sorted_dict\n",
        "\n",
        "# Example usage\n",
        "input_dict = {'a': 3, 'b': 1, 'c': 4, 'd': 2}\n",
        "\n",
        "# Sort in ascending order (default)\n",
        "sorted_dict_ascending = sort_dict_by_value(input_dict)\n",
        "print(\"Sorted dictionary in ascending order:\", sorted_dict_ascending)\n",
        "\n",
        "# Sort in descending order\n",
        "sorted_dict_descending = sort_dict_by_value(input_dict, descending=True)\n",
        "print(\"Sorted dictionary in descending order:\", sorted_dict_descending)\n"
      ],
      "metadata": {
        "colab": {
          "base_uri": "https://localhost:8080/"
        },
        "id": "zLs8_cm0cLTa",
        "outputId": "c238e92c-064a-4b67-8926-4bb078088248"
      },
      "execution_count": 61,
      "outputs": [
        {
          "output_type": "stream",
          "name": "stdout",
          "text": [
            "Sorted dictionary in ascending order: {'b': 1, 'd': 2, 'a': 3, 'c': 4}\n",
            "Sorted dictionary in descending order: {'c': 4, 'a': 3, 'd': 2, 'b': 1}\n"
          ]
        }
      ]
    },
    {
      "cell_type": "code",
      "source": [
        "#35] Write a code that inverts a dictionary, swapping keys and values. Ensure that the inverted dictionary correctly handles cases where multiple keys have the same value by storing the keys as a list in the inverted dictionary.\n",
        "def invert_dict(input_dict):\n",
        "    inverted_dict = {}\n",
        "\n",
        "    # Iterate through the original dictionary\n",
        "    for key, value in input_dict.items():\n",
        "        # If the value is already in the inverted dictionary, append the key to the list\n",
        "        if value in inverted_dict:\n",
        "            inverted_dict[value].append(key)\n",
        "        else:\n",
        "            # If the value is not in the inverted dictionary, create a new entry with the key in a list\n",
        "            inverted_dict[value] = [key]\n",
        "\n",
        "    return inverted_dict\n",
        "\n",
        "# Example usage\n",
        "input_dict = {'a': 1, 'b': 2, 'c': 1, 'd': 3}\n",
        "\n",
        "inverted_dict = invert_dict(input_dict)\n",
        "print(\"Inverted dictionary:\", inverted_dict)\n"
      ],
      "metadata": {
        "colab": {
          "base_uri": "https://localhost:8080/"
        },
        "id": "kUsVlrRIciKw",
        "outputId": "5eda0b5e-5df1-48bb-8b58-b6ec0bd0adb1"
      },
      "execution_count": 62,
      "outputs": [
        {
          "output_type": "stream",
          "name": "stdout",
          "text": [
            "Inverted dictionary: {1: ['a', 'c'], 2: ['b'], 3: ['d']}\n"
          ]
        }
      ]
    }
  ]
}